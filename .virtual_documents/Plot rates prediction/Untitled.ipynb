import pandas as pd
import numpy as np



df=pd.read_csv('housing.csv')
df['income_cat']=pd.cut(df['median_income'],bins=[0, 1.5, 3.0, 4.5, 6.0, np.inf],labels=[1,2,3,4,5])


from sklearn.model_selection import StratifiedShuffleSplit
split=StratifiedShuffleSplit(n_splits=1,test_size=0.2,random_state=9)
for train_ind,test_ind in split.split(df,df['income_cat']):
    train_set=df.iloc[train_ind]
    test_set=df.iloc[test_ind]
    


for sett in (train_set,test_set):
    sett.drop('income_cat',axis=1,inplace=True)



