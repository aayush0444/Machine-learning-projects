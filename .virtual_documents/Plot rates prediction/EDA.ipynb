import pandas as pd
import matplotlib.pyplot as plt
import numpy as np


df=pd.read_csv("housing.csv")
df.head(3)


df.tail(3)


df.isnull().sum()


df.info()


df['ocean_proximity'].value_counts()


df.describe()


df.hist(bins=50,figsize=(20,10))


def train_test(df,test_ratio):
    np.random.seed(9)
    shuffeled_indices=np.random.permutation(len(df))
    test_size=int(len(df)*test_ratio)
    test_indices=shuffeled_indices[:test_size]
    train_indices=shuffeled_indices[test_size:]
    return df.iloc[train_indices],df.iloc[test_indices]
    
    


train,test=train_test(df,0.2)


train


df['income_cat']=pd.cut(df['median_income'],bins=[0, 1.5, 3.0, 4.5, 6.0, np.inf],labels=[1,2,3,4,5])
df['income_cat'].value_counts().sort_index().plot.bar()
plt.title("Income Categories Distribution")
plt.xlabel("Income Category")
plt.ylabel("Number of Instances") 
                        





from sklearn.model_selection import StratifiedShuffleSplit
split=StratifiedShuffleSplit(n_splits=1,test_size=0.2,random_state=9)
for train_ind,test_ind in split.split(df,df['income_cat']):
    train_set=df.iloc[train_ind]
    test_set=df.iloc[test_ind]
    
    


train_set
train_set['income_cat'].value_counts().sort_index().plot.bar()


test_set
test_set['income_cat'].value_counts().sort_index().plot.pie()



