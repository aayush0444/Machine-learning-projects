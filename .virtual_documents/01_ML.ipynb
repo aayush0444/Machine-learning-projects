import pandas as pd
from sklearn.ensemble import RandomForestClassifier


data=pd.read_excel("iris-test.xlsx")
data.head()


x_values=data.iloc[:,:-1]
x_values.head()


y_values=data.iloc[:,-1]
y_values.head()


model=RandomForestClassifier()


model.fit(x_values,y_values)


data_test=pd.read_excel("iris-test.xlsx")
data_test


x_val=data_test.iloc[:,:-1]


predictions=model.predict(x_val.values)


predictions


y_val=data_test.iloc[:,-1]
y_val


count=0
for i in range(0,len(predictions)):
    if(predictions[i]==y_val[i]):
        count=count+1

print((count*100)/len(predictions))




